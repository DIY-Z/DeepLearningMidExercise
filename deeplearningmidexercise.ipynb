{
 "cells": [
  {
   "cell_type": "markdown",
   "id": "d276d33a",
   "metadata": {
    "papermill": {
     "duration": 0.005155,
     "end_time": "2022-11-24T11:58:40.574423",
     "exception": false,
     "start_time": "2022-11-24T11:58:40.569268",
     "status": "completed"
    },
    "tags": []
   },
   "source": [
    "## 1.Loading Data"
   ]
  },
  {
   "cell_type": "code",
   "execution_count": 1,
   "id": "6c534536",
   "metadata": {
    "execution": {
     "iopub.execute_input": "2022-11-24T11:58:40.584330Z",
     "iopub.status.busy": "2022-11-24T11:58:40.583755Z",
     "iopub.status.idle": "2022-11-24T11:58:42.291134Z",
     "shell.execute_reply": "2022-11-24T11:58:42.290087Z"
    },
    "papermill": {
     "duration": 1.715203,
     "end_time": "2022-11-24T11:58:42.293678",
     "exception": false,
     "start_time": "2022-11-24T11:58:40.578475",
     "status": "completed"
    },
    "tags": []
   },
   "outputs": [
    {
     "name": "stdout",
     "output_type": "stream",
     "text": [
      "Using cuda device\n"
     ]
    }
   ],
   "source": [
    "import torch\n",
    "\n",
    "device = torch.device('cuda') if torch.cuda.is_available() else torch.device('cpu')\n",
    "print('Using {} device'.format(device))"
   ]
  },
  {
   "cell_type": "code",
   "execution_count": 2,
   "id": "071b40e4",
   "metadata": {
    "execution": {
     "iopub.execute_input": "2022-11-24T11:58:42.304078Z",
     "iopub.status.busy": "2022-11-24T11:58:42.303426Z",
     "iopub.status.idle": "2022-11-24T11:58:42.516694Z",
     "shell.execute_reply": "2022-11-24T11:58:42.515697Z"
    },
    "papermill": {
     "duration": 0.220625,
     "end_time": "2022-11-24T11:58:42.519127",
     "exception": false,
     "start_time": "2022-11-24T11:58:42.298502",
     "status": "completed"
    },
    "tags": []
   },
   "outputs": [],
   "source": [
    "from torch.utils import data\n",
    "from torchvision import transforms as trans\n",
    "import os\n",
    "import random\n",
    "from PIL import Image\n",
    "\n",
    "class PDataset(data.Dataset):\n",
    "    def __init__(self, dataset_root, size=224, augment=True):\n",
    "        self.data_root = dataset_root\n",
    "        self.img_path_list = self.collect_img(self.data_root)\n",
    "        self.augment = augment\n",
    "        self.size = size\n",
    "        if augment:\n",
    "            self.transform = trans.Compose([\n",
    "                trans.Resize(255),\n",
    "                trans.CenterCrop(224),\n",
    "                trans.RandomHorizontalFlip(),\n",
    "                trans.Grayscale(),\n",
    "                trans.RandomRotation(10),\n",
    "                trans.RandomAffine(translate=(0.05, 0.05), degrees = 0),\n",
    "                trans.ToTensor(),\n",
    "                trans.Normalize((0.485), (0.229))])\n",
    "            print(\"Augment True!\")\n",
    "        else:\n",
    "            self.transform = trans.Compose([trans.Grayscale(), trans.ToTensor(),trans.Normalize((0.485), (0.229))])\n",
    "        \n",
    "    \n",
    "    def __getitem__(self, index):\n",
    "        image_path = self.img_path_list[index]\n",
    "        img = Image.open(image_path)\n",
    "        if not self.augment:  #如果augment_为False, 则需要先调整大小成(size,size)\n",
    "            img = self.resize_image(img, self.size)\n",
    "        img = self.transform(img)\n",
    "        return img\n",
    "        \n",
    "    def resize_image(self, image, size):\n",
    "        img = image.resize((size, size))\n",
    "        return img\n",
    "    \n",
    "    def collect_img(self, root):\n",
    "        img_path_list = []\n",
    "        for path in os.listdir(root):\n",
    "            img_path = os.path.join(root, path)\n",
    "            img_path_list.append(img_path)\n",
    "        return img_path_list\n",
    "    \n",
    "    def __len__(self):\n",
    "        return len(self.img_path_list)"
   ]
  },
  {
   "cell_type": "code",
   "execution_count": 3,
   "id": "cfe65960",
   "metadata": {
    "execution": {
     "iopub.execute_input": "2022-11-24T11:58:42.528214Z",
     "iopub.status.busy": "2022-11-24T11:58:42.527908Z",
     "iopub.status.idle": "2022-11-24T11:58:42.749753Z",
     "shell.execute_reply": "2022-11-24T11:58:42.748218Z"
    },
    "papermill": {
     "duration": 0.229803,
     "end_time": "2022-11-24T11:58:42.752910",
     "exception": false,
     "start_time": "2022-11-24T11:58:42.523107",
     "status": "completed"
    },
    "tags": []
   },
   "outputs": [
    {
     "name": "stdout",
     "output_type": "stream",
     "text": [
      "Augment True!\n",
      "Augment True!\n"
     ]
    }
   ],
   "source": [
    "dataset_path = '/kaggle/input/chest-xray-pneumonia/chest_xray'\n",
    "\n",
    "#trainset\n",
    "normal_dataset = PDataset(dataset_root = os.path.join(dataset_path, 'train', 'NORMAL'), size = 224, augment=True)\n",
    "pneumonia_dataset = PDataset(dataset_root = os.path.join(dataset_path, 'train', 'PNEUMONIA'), size = 224, augment=True)\n",
    "normal_dataloader = torch.utils.data.DataLoader(\n",
    "    dataset=normal_dataset,\n",
    "    batch_size = 8,\n",
    "    shuffle = True,\n",
    "    num_workers = 0\n",
    ")\n",
    "pneumonia_dataloader = torch.utils.data.DataLoader(\n",
    "    dataset=pneumonia_dataset,\n",
    "    batch_size = 8,\n",
    "    shuffle = True,\n",
    "    num_workers = 0\n",
    ")"
   ]
  },
  {
   "cell_type": "markdown",
   "id": "fdb34946",
   "metadata": {
    "papermill": {
     "duration": 0.005336,
     "end_time": "2022-11-24T11:58:42.764583",
     "exception": false,
     "start_time": "2022-11-24T11:58:42.759247",
     "status": "completed"
    },
    "tags": []
   },
   "source": [
    "## 2.Model"
   ]
  },
  {
   "cell_type": "code",
   "execution_count": 4,
   "id": "52c32721",
   "metadata": {
    "execution": {
     "iopub.execute_input": "2022-11-24T11:58:42.776734Z",
     "iopub.status.busy": "2022-11-24T11:58:42.776389Z",
     "iopub.status.idle": "2022-11-24T11:58:54.773914Z",
     "shell.execute_reply": "2022-11-24T11:58:54.772735Z"
    },
    "papermill": {
     "duration": 12.006396,
     "end_time": "2022-11-24T11:58:54.776459",
     "exception": false,
     "start_time": "2022-11-24T11:58:42.770063",
     "status": "completed"
    },
    "tags": []
   },
   "outputs": [
    {
     "name": "stdout",
     "output_type": "stream",
     "text": [
      "Collecting timm\r\n",
      "  Downloading timm-0.6.12-py3-none-any.whl (549 kB)\r\n",
      "\u001b[2K     \u001b[90m━━━━━━━━━━━━━━━━━━━━━━━━━━━━━━━━━━━━━━━\u001b[0m \u001b[32m549.1/549.1 kB\u001b[0m \u001b[31m2.6 MB/s\u001b[0m eta \u001b[36m0:00:00\u001b[0m\r\n",
      "\u001b[?25hRequirement already satisfied: torch>=1.7 in /opt/conda/lib/python3.7/site-packages (from timm) (1.11.0)\r\n",
      "Requirement already satisfied: huggingface-hub in /opt/conda/lib/python3.7/site-packages (from timm) (0.10.1)\r\n",
      "Requirement already satisfied: torchvision in /opt/conda/lib/python3.7/site-packages (from timm) (0.12.0)\r\n",
      "Requirement already satisfied: pyyaml in /opt/conda/lib/python3.7/site-packages (from timm) (6.0)\r\n",
      "Requirement already satisfied: typing-extensions in /opt/conda/lib/python3.7/site-packages (from torch>=1.7->timm) (4.1.1)\r\n",
      "Requirement already satisfied: requests in /opt/conda/lib/python3.7/site-packages (from huggingface-hub->timm) (2.28.1)\r\n",
      "Requirement already satisfied: filelock in /opt/conda/lib/python3.7/site-packages (from huggingface-hub->timm) (3.7.1)\r\n",
      "Requirement already satisfied: packaging>=20.9 in /opt/conda/lib/python3.7/site-packages (from huggingface-hub->timm) (21.3)\r\n",
      "Requirement already satisfied: importlib-metadata in /opt/conda/lib/python3.7/site-packages (from huggingface-hub->timm) (4.13.0)\r\n",
      "Requirement already satisfied: tqdm in /opt/conda/lib/python3.7/site-packages (from huggingface-hub->timm) (4.64.0)\r\n",
      "Requirement already satisfied: pillow!=8.3.*,>=5.3.0 in /opt/conda/lib/python3.7/site-packages (from torchvision->timm) (9.1.1)\r\n",
      "Requirement already satisfied: numpy in /opt/conda/lib/python3.7/site-packages (from torchvision->timm) (1.21.6)\r\n",
      "Requirement already satisfied: pyparsing!=3.0.5,>=2.0.2 in /opt/conda/lib/python3.7/site-packages (from packaging>=20.9->huggingface-hub->timm) (3.0.9)\r\n",
      "Requirement already satisfied: zipp>=0.5 in /opt/conda/lib/python3.7/site-packages (from importlib-metadata->huggingface-hub->timm) (3.8.0)\r\n",
      "Requirement already satisfied: urllib3<1.27,>=1.21.1 in /opt/conda/lib/python3.7/site-packages (from requests->huggingface-hub->timm) (1.26.12)\r\n",
      "Requirement already satisfied: charset-normalizer<3,>=2 in /opt/conda/lib/python3.7/site-packages (from requests->huggingface-hub->timm) (2.1.0)\r\n",
      "Requirement already satisfied: certifi>=2017.4.17 in /opt/conda/lib/python3.7/site-packages (from requests->huggingface-hub->timm) (2022.9.24)\r\n",
      "Requirement already satisfied: idna<4,>=2.5 in /opt/conda/lib/python3.7/site-packages (from requests->huggingface-hub->timm) (3.3)\r\n",
      "Installing collected packages: timm\r\n",
      "Successfully installed timm-0.6.12\r\n",
      "\u001b[33mWARNING: Running pip as the 'root' user can result in broken permissions and conflicting behaviour with the system package manager. It is recommended to use a virtual environment instead: https://pip.pypa.io/warnings/venv\u001b[0m\u001b[33m\r\n",
      "\u001b[0m"
     ]
    }
   ],
   "source": [
    "#安装timm\n",
    "!pip install timm"
   ]
  },
  {
   "cell_type": "code",
   "execution_count": 5,
   "id": "a8c4429f",
   "metadata": {
    "execution": {
     "iopub.execute_input": "2022-11-24T11:58:54.788058Z",
     "iopub.status.busy": "2022-11-24T11:58:54.787145Z",
     "iopub.status.idle": "2022-11-24T11:58:59.520730Z",
     "shell.execute_reply": "2022-11-24T11:58:59.519646Z"
    },
    "papermill": {
     "duration": 4.742312,
     "end_time": "2022-11-24T11:58:59.523673",
     "exception": false,
     "start_time": "2022-11-24T11:58:54.781361",
     "status": "completed"
    },
    "tags": []
   },
   "outputs": [
    {
     "name": "stderr",
     "output_type": "stream",
     "text": [
      "Downloading: \"https://github.com/rwightman/pytorch-image-models/releases/download/v0.1-weights/tf_efficientnet_b4_ns-d6313a46.pth\" to /root/.cache/torch/hub/checkpoints/tf_efficientnet_b4_ns-d6313a46.pth\n"
     ]
    }
   ],
   "source": [
    "#EfficientNet\n",
    "import timm\n",
    "import torch.nn as nn\n",
    "import torch.nn.functional as F\n",
    "\n",
    "#创建efficientNet模型并加载它的预训练权重\n",
    "eff_model = timm.create_model('tf_efficientnet_b4_ns', pretrained=True, in_chans=1)\n",
    "\n",
    "\n",
    "\n",
    "#修改model.classifier #修改前model.classifier为Linear(in_features=1792, out_features=1000, bias=True),修改后out_features=1\n",
    "eff_model.classifier = nn.Sequential(\n",
    "    nn.Linear(in_features=1792, out_features=625),\n",
    "    nn.ReLU(inplace=True), \n",
    "    nn.Dropout(p=0.3),\n",
    "    nn.Linear(in_features=625, out_features=256),\n",
    "    nn.ReLU(inplace=True),\n",
    "    nn.Linear(in_features=256, out_features=1), \n",
    ")\n",
    "#将修改的classifier的层初始化\n",
    "for layer in eff_model.classifier:\n",
    "    if isinstance(layer, nn.Linear):\n",
    "        nn.init.kaiming_normal_(layer.weight.data, a=0, mode='fan_in', nonlinearity='leaky_relu')\n",
    "        layer.bias.data.zero_()"
   ]
  },
  {
   "cell_type": "markdown",
   "id": "9e947336",
   "metadata": {
    "papermill": {
     "duration": 0.004733,
     "end_time": "2022-11-24T11:58:59.534548",
     "exception": false,
     "start_time": "2022-11-24T11:58:59.529815",
     "status": "completed"
    },
    "tags": []
   },
   "source": [
    "## 3.Model Train"
   ]
  },
  {
   "cell_type": "code",
   "execution_count": 6,
   "id": "aad84821",
   "metadata": {
    "execution": {
     "iopub.execute_input": "2022-11-24T11:58:59.544826Z",
     "iopub.status.busy": "2022-11-24T11:58:59.544505Z",
     "iopub.status.idle": "2022-11-24T11:58:59.552979Z",
     "shell.execute_reply": "2022-11-24T11:58:59.551998Z"
    },
    "papermill": {
     "duration": 0.016067,
     "end_time": "2022-11-24T11:58:59.555082",
     "exception": false,
     "start_time": "2022-11-24T11:58:59.539015",
     "status": "completed"
    },
    "tags": []
   },
   "outputs": [],
   "source": [
    "class Trainer():\n",
    "    def __init__(self):\n",
    "        gpu_ids = [0]\n",
    "        self.device = torch.device('cuda:{}'.format(gpu_ids[0])) if gpu_ids else torch.device('cpu')\n",
    "#         self.device = torch.device('cpu')\n",
    "        self.model = eff_model\n",
    "        #TODO 切换到GPU\n",
    "        self.model = eff_model.to(f'cuda:{gpu_ids[0]}')\n",
    "        self.loss_fn = nn.BCEWithLogitsLoss()\n",
    "        self.optimizer = torch.optim.Adam(filter(lambda p: p.requires_grad, self.model.parameters()), \n",
    "                                lr=0.0002, betas=(0.9, 0.999))\n",
    "    \n",
    "    def set_input(self, input, label):\n",
    "        self.input = input.to(self.device)\n",
    "        self.label = label.to(self.device)\n",
    "    \n",
    "    def optimize_weight(self):\n",
    "        stu_cla = self.model(self.input)\n",
    "        self.loss_cla = self.loss_fn(stu_cla.squeeze(1), self.label)\n",
    "        self.loss = self.loss_cla\n",
    "        \n",
    "        self.optimizer.zero_grad()\n",
    "        self.loss.backward()\n",
    "        self.optimizer.step()\n",
    "        return self.loss"
   ]
  },
  {
   "cell_type": "code",
   "execution_count": 7,
   "id": "7c8a5a33",
   "metadata": {
    "execution": {
     "iopub.execute_input": "2022-11-24T11:58:59.565200Z",
     "iopub.status.busy": "2022-11-24T11:58:59.564919Z",
     "iopub.status.idle": "2022-11-24T11:59:00.250048Z",
     "shell.execute_reply": "2022-11-24T11:59:00.249081Z"
    },
    "papermill": {
     "duration": 0.693099,
     "end_time": "2022-11-24T11:59:00.252591",
     "exception": false,
     "start_time": "2022-11-24T11:58:59.559492",
     "status": "completed"
    },
    "tags": []
   },
   "outputs": [],
   "source": [
    "from sklearn.metrics import average_precision_score, precision_recall_curve, accuracy_score\n",
    "from sklearn.metrics import roc_curve\n",
    "from sklearn.metrics import auc as cal_auc\n",
    "import torch\n",
    "import numpy as np\n",
    "\n",
    "def evaluate(model, data_path, mode='val', bz=8, input_size=224):\n",
    "    root = data_path\n",
    "    root = os.path.join(data_path, mode)\n",
    "    n_root = os.path.join(root, 'NORMAL')\n",
    "    dataset_n = PDataset(dataset_root = n_root, size=input_size, augment=False)\n",
    "    p_root = os.path.join(root, 'PNEUMONIA')\n",
    "    dataset_p = PDataset(dataset_root = p_root, size=input_size, augment=False)\n",
    "    dataset_img = torch.utils.data.ConcatDataset([dataset_n, dataset_p])\n",
    "    with torch.no_grad():\n",
    "        y_true, y_pred = [], []\n",
    "        for i, d in enumerate(dataset_img.datasets):\n",
    "            dataloader = torch.utils.data.DataLoader(\n",
    "                dataset = d,\n",
    "                batch_size = bz,\n",
    "                shuffle = True,\n",
    "                num_workers = 0\n",
    "            )\n",
    "            for img in dataloader:\n",
    "                if i == 0:\n",
    "                    label = torch.zeros(img.size(0))\n",
    "                else:\n",
    "                    label = torch.ones(img.size(0))\n",
    "                \n",
    "                img = img.detach().to(device)\n",
    "                output = model(img)\n",
    "                y_pred.extend(output.sigmoid().flatten().tolist())\n",
    "                y_true.extend(label.flatten().tolist())\n",
    "    y_true, y_pred = np.array(y_true), np.array(y_pred)\n",
    "    fpr, tpr, thresholds = roc_curve(y_true,y_pred,pos_label=1)  #pos_label是指正样本的标签\n",
    "    AUC = cal_auc(fpr, tpr)\n",
    "    acc = accuracy_score(y_true, y_pred > 0.5)\n",
    "    return AUC, acc"
   ]
  },
  {
   "cell_type": "code",
   "execution_count": 8,
   "id": "53e79e76",
   "metadata": {
    "execution": {
     "iopub.execute_input": "2022-11-24T11:59:00.264125Z",
     "iopub.status.busy": "2022-11-24T11:59:00.263804Z",
     "iopub.status.idle": "2022-11-24T12:20:11.923735Z",
     "shell.execute_reply": "2022-11-24T12:20:11.922727Z"
    },
    "papermill": {
     "duration": 1271.668691,
     "end_time": "2022-11-24T12:20:11.926360",
     "exception": false,
     "start_time": "2022-11-24T11:59:00.257669",
     "status": "completed"
    },
    "tags": []
   },
   "outputs": [
    {
     "name": "stdout",
     "output_type": "stream",
     "text": [
      "Epoch 0\n",
      "loss: 0.02048000879585743 at step: 40\n",
      "loss: 0.020446231588721275 at step: 80\n",
      "loss: 0.035611484199762344 at step: 120\n",
      "loss: 0.0021400735713541508 at step: 160\n",
      "(Val @ epoch 0) auc: 0.90625 acc:0.6875\n",
      "Epoch 1\n",
      "loss: 0.21231228113174438 at step: 200\n",
      "loss: 0.31163841485977173 at step: 240\n",
      "loss: 0.005278983153402805 at step: 280\n",
      "loss: 0.017422184348106384 at step: 320\n",
      "(Val @ epoch 1) auc: 0.9375 acc:0.75\n",
      "Epoch 2\n",
      "loss: 0.00838540680706501 at step: 360\n",
      "loss: 0.004551652353256941 at step: 400\n",
      "loss: 0.0005882637924514711 at step: 440\n",
      "loss: 0.005671916529536247 at step: 480\n",
      "(Val @ epoch 2) auc: 0.96875 acc:0.75\n",
      "Epoch 3\n",
      "loss: 0.041183702647686005 at step: 520\n",
      "loss: 0.004862133879214525 at step: 560\n",
      "loss: 0.03553205356001854 at step: 600\n",
      "loss: 0.0022896325681358576 at step: 640\n",
      "(Val @ epoch 3) auc: 1.0 acc:0.75\n",
      "Epoch 4\n",
      "loss: 0.0010975132463499904 at step: 680\n",
      "loss: 0.004510937724262476 at step: 720\n",
      "loss: 0.00025044826907105744 at step: 760\n",
      "loss: 0.000115913811896462 at step: 800\n",
      "(Val @ epoch 4) auc: 0.96875 acc:0.75\n",
      "Epoch 5\n",
      "loss: 0.003653709078207612 at step: 880\n",
      "loss: 0.00043269433081150055 at step: 920\n",
      "loss: 0.0010151437018066645 at step: 960\n",
      "loss: 0.05390426889061928 at step: 1000\n",
      "(Val @ epoch 5) auc: 0.96875 acc:0.875\n",
      "Epoch 6\n",
      "loss: 0.021128658205270767 at step: 1040\n",
      "loss: 7.853507122490555e-05 at step: 1080\n",
      "loss: 0.03542356565594673 at step: 1120\n",
      "loss: 0.003193289740011096 at step: 1160\n",
      "(Val @ epoch 6) auc: 0.9375 acc:0.8125\n",
      "Epoch 7\n",
      "loss: 0.0014534501824527979 at step: 1200\n",
      "loss: 0.04536416009068489 at step: 1240\n",
      "loss: 0.05725846812129021 at step: 1280\n",
      "loss: 0.00013938377378508449 at step: 1320\n",
      "(Val @ epoch 7) auc: 0.9375 acc:0.875\n",
      "Epoch 8\n",
      "loss: 0.001799465622752905 at step: 1360\n",
      "loss: 0.05160917714238167 at step: 1400\n",
      "loss: 0.00018097754218615592 at step: 1440\n",
      "loss: 0.029257038608193398 at step: 1480\n",
      "(Val @ epoch 8) auc: 0.9375 acc:0.875\n",
      "Epoch 9\n",
      "loss: 0.0003519973251968622 at step: 1520\n",
      "loss: 0.001060552429407835 at step: 1560\n",
      "loss: 0.01887054182589054 at step: 1600\n",
      "loss: 0.19170093536376953 at step: 1640\n",
      "(Val @ epoch 9) auc: 0.96875 acc:0.875\n",
      "Epoch 10\n",
      "loss: 5.7224417105317116e-05 at step: 1720\n",
      "loss: 0.013991259969770908 at step: 1760\n",
      "loss: 0.0018310119630768895 at step: 1800\n",
      "loss: 0.00022282751160673797 at step: 1840\n",
      "(Val @ epoch 10) auc: 0.953125 acc:0.8125\n",
      "Epoch 11\n",
      "loss: 0.004332937765866518 at step: 1880\n",
      "loss: 0.0003799679398071021 at step: 1920\n",
      "loss: 0.011710627004504204 at step: 1960\n",
      "loss: 0.0011035663774237037 at step: 2000\n",
      "(Val @ epoch 11) auc: 0.9375 acc:0.875\n",
      "Epoch 12\n",
      "loss: 0.00019722140859812498 at step: 2040\n",
      "loss: 4.401253681862727e-05 at step: 2080\n",
      "loss: 2.4682138246134855e-05 at step: 2120\n",
      "loss: 1.1741281923605129e-05 at step: 2160\n",
      "(Val @ epoch 12) auc: 0.96875 acc:0.875\n",
      "Epoch 13\n",
      "loss: 0.03231962025165558 at step: 2200\n",
      "loss: 0.000290312193101272 at step: 2240\n",
      "loss: 0.0003869649372063577 at step: 2280\n",
      "loss: 0.00043203262612223625 at step: 2320\n",
      "(Val @ epoch 13) auc: 0.984375 acc:0.9375\n",
      "Epoch 14\n",
      "loss: 0.010148565284907818 at step: 2360\n",
      "loss: 8.051147597143427e-05 at step: 2400\n",
      "loss: 0.0002753440639935434 at step: 2440\n",
      "loss: 0.001099046436138451 at step: 2480\n",
      "(Val @ epoch 14) auc: 0.984375 acc:0.75\n"
     ]
    }
   ],
   "source": [
    "import copy\n",
    "\n",
    "#记录训练过程中的验证集的auc,acc\n",
    "valid_auc = []\n",
    "valid_acc = []\n",
    "\n",
    "\n",
    "#train\n",
    "model = Trainer()\n",
    "model.total_steps = 0\n",
    "epoch = 0\n",
    "max_epoch = 15\n",
    "loss_freq = 40\n",
    "\n",
    "len_dataloader = normal_dataloader.__len__()\n",
    "p_iter = iter(pneumonia_dataloader)\n",
    "\n",
    "best_val = 0\n",
    "best_acc = 0\n",
    "\n",
    "while epoch < max_epoch:\n",
    "    n_iter = iter(normal_dataloader)\n",
    "    print(f'Epoch {epoch}')\n",
    "    i = 0\n",
    "    while i < len_dataloader:\n",
    "        i += 1\n",
    "        model.total_steps += 1\n",
    "        \n",
    "        try:\n",
    "            data_n = n_iter.next()\n",
    "        except StopIteration:\n",
    "            break\n",
    "        \n",
    "        try:\n",
    "            data_p = p_iter.next()\n",
    "        except StopIteration:\n",
    "            p_iter = iter(pneumonia_dataloader)\n",
    "            data_p = p_iter.next()\n",
    "        \n",
    "        if data_p.shape[0] != data_n.shape[0]:   #保证每次循环中normal与pneumonia的数量相等\n",
    "            continue\n",
    "        \n",
    "        bz = data_n.shape[0]\n",
    "        data = torch.cat([data_n, data_p], dim=0)\n",
    "        #将normal标签设置为0,将pneumonia标签设置为1\n",
    "        label = torch.cat([torch.zeros(bz).unsqueeze(dim=0),torch.ones(bz).unsqueeze(dim=0)],dim=1).squeeze(dim=0)\n",
    "        # manually shuffle\n",
    "        idx = list(range(data.shape[0]))\n",
    "        random.shuffle(idx)\n",
    "        data = data[idx]\n",
    "        label = label[idx]\n",
    "        data = data.detach()    #data.detach()是将data变量从计算图中分离出来,即反向传播时不计算其梯度\n",
    "        label = label.detach()\n",
    "        \n",
    "        model.set_input(data,label)\n",
    "\n",
    "        loss = model.optimize_weight()\n",
    "        if model.total_steps % loss_freq == 0:\n",
    "            print(f'loss: {loss} at step: {model.total_steps}')\n",
    "        \n",
    "    #找best\n",
    "    model.model.eval()\n",
    "    auc, acc = evaluate(model.model, dataset_path, mode='val')\n",
    "    valid_auc.append(auc)\n",
    "    valid_acc.append(acc)\n",
    "    print(f'(Val @ epoch {epoch}) auc: {auc} acc:{acc}')\n",
    "    if auc > best_val:\n",
    "        best_val = auc\n",
    "        best_model_weights = copy.deepcopy(model.model.state_dict())\n",
    "    if acc > best_acc:\n",
    "        best_acc = acc\n",
    "        best_acc_model_weights = copy.deepcopy(model.model.state_dict())\n",
    "    epoch = epoch + 1\n",
    "    model.model.train()\n",
    "\n",
    "#保存训练好的模型权重\n",
    "save_dir = '/kaggle/working/best_auc_model_v5.pth'\n",
    "acc_save_dir = '/kaggle/working/best_acc_model_v5.pth'\n",
    "torch.save(best_model_weights, save_dir)\n",
    "torch.save(best_acc_model_weights, acc_save_dir)"
   ]
  },
  {
   "cell_type": "markdown",
   "id": "4bf5d198",
   "metadata": {
    "papermill": {
     "duration": 0.007981,
     "end_time": "2022-11-24T12:20:11.942786",
     "exception": false,
     "start_time": "2022-11-24T12:20:11.934805",
     "status": "completed"
    },
    "tags": []
   },
   "source": [
    "## 4.Visualization"
   ]
  },
  {
   "cell_type": "code",
   "execution_count": 9,
   "id": "6c9751d4",
   "metadata": {
    "execution": {
     "iopub.execute_input": "2022-11-24T12:20:11.960979Z",
     "iopub.status.busy": "2022-11-24T12:20:11.960652Z",
     "iopub.status.idle": "2022-11-24T12:20:12.178871Z",
     "shell.execute_reply": "2022-11-24T12:20:12.177921Z"
    },
    "papermill": {
     "duration": 0.230088,
     "end_time": "2022-11-24T12:20:12.180961",
     "exception": false,
     "start_time": "2022-11-24T12:20:11.950873",
     "status": "completed"
    },
    "tags": []
   },
   "outputs": [
    {
     "data": {
      "image/png": "[encoded data removed]",
      "text/plain": [
       "<Figure size 432x288 with 1 Axes>"
      ]
     },
     "metadata": {
      "needs_background": "light"
     },
     "output_type": "display_data"
    }
   ],
   "source": [
    "import matplotlib.pyplot as plt\n",
    "\n",
    "x_len = range(len(valid_auc))\n",
    "plt.plot(x_len, valid_auc, \"b\", label=\"valid AUC\")\n",
    "plt.plot(x_len, valid_acc, \"r\", label=\"valid Acc\")\n",
    "plt.legend()\n",
    "plt.show()"
   ]
  },
  {
   "cell_type": "markdown",
   "id": "3478c70f",
   "metadata": {
    "papermill": {
     "duration": 0.008408,
     "end_time": "2022-11-24T12:20:12.198044",
     "exception": false,
     "start_time": "2022-11-24T12:20:12.189636",
     "status": "completed"
    },
    "tags": []
   },
   "source": [
    "## 5.Test Model"
   ]
  },
  {
   "cell_type": "code",
   "execution_count": 10,
   "id": "e0803425",
   "metadata": {
    "execution": {
     "iopub.execute_input": "2022-11-24T12:20:12.216153Z",
     "iopub.status.busy": "2022-11-24T12:20:12.215827Z",
     "iopub.status.idle": "2022-11-24T12:20:21.945109Z",
     "shell.execute_reply": "2022-11-24T12:20:21.943942Z"
    },
    "papermill": {
     "duration": 9.741178,
     "end_time": "2022-11-24T12:20:21.947584",
     "exception": false,
     "start_time": "2022-11-24T12:20:12.206406",
     "status": "completed"
    },
    "tags": []
   },
   "outputs": [
    {
     "name": "stdout",
     "output_type": "stream",
     "text": [
      "Requirement already satisfied: timm in /opt/conda/lib/python3.7/site-packages (0.6.12)\r\n",
      "Requirement already satisfied: huggingface-hub in /opt/conda/lib/python3.7/site-packages (from timm) (0.10.1)\r\n",
      "Requirement already satisfied: torchvision in /opt/conda/lib/python3.7/site-packages (from timm) (0.12.0)\r\n",
      "Requirement already satisfied: pyyaml in /opt/conda/lib/python3.7/site-packages (from timm) (6.0)\r\n",
      "Requirement already satisfied: torch>=1.7 in /opt/conda/lib/python3.7/site-packages (from timm) (1.11.0)\r\n",
      "Requirement already satisfied: typing-extensions in /opt/conda/lib/python3.7/site-packages (from torch>=1.7->timm) (4.1.1)\r\n",
      "Requirement already satisfied: filelock in /opt/conda/lib/python3.7/site-packages (from huggingface-hub->timm) (3.7.1)\r\n",
      "Requirement already satisfied: requests in /opt/conda/lib/python3.7/site-packages (from huggingface-hub->timm) (2.28.1)\r\n",
      "Requirement already satisfied: importlib-metadata in /opt/conda/lib/python3.7/site-packages (from huggingface-hub->timm) (4.13.0)\r\n",
      "Requirement already satisfied: tqdm in /opt/conda/lib/python3.7/site-packages (from huggingface-hub->timm) (4.64.0)\r\n",
      "Requirement already satisfied: packaging>=20.9 in /opt/conda/lib/python3.7/site-packages (from huggingface-hub->timm) (21.3)\r\n",
      "Requirement already satisfied: numpy in /opt/conda/lib/python3.7/site-packages (from torchvision->timm) (1.21.6)\r\n",
      "Requirement already satisfied: pillow!=8.3.*,>=5.3.0 in /opt/conda/lib/python3.7/site-packages (from torchvision->timm) (9.1.1)\r\n",
      "Requirement already satisfied: pyparsing!=3.0.5,>=2.0.2 in /opt/conda/lib/python3.7/site-packages (from packaging>=20.9->huggingface-hub->timm) (3.0.9)\r\n",
      "Requirement already satisfied: zipp>=0.5 in /opt/conda/lib/python3.7/site-packages (from importlib-metadata->huggingface-hub->timm) (3.8.0)\r\n",
      "Requirement already satisfied: urllib3<1.27,>=1.21.1 in /opt/conda/lib/python3.7/site-packages (from requests->huggingface-hub->timm) (1.26.12)\r\n",
      "Requirement already satisfied: charset-normalizer<3,>=2 in /opt/conda/lib/python3.7/site-packages (from requests->huggingface-hub->timm) (2.1.0)\r\n",
      "Requirement already satisfied: idna<4,>=2.5 in /opt/conda/lib/python3.7/site-packages (from requests->huggingface-hub->timm) (3.3)\r\n",
      "Requirement already satisfied: certifi>=2017.4.17 in /opt/conda/lib/python3.7/site-packages (from requests->huggingface-hub->timm) (2022.9.24)\r\n",
      "\u001b[33mWARNING: Running pip as the 'root' user can result in broken permissions and conflicting behaviour with the system package manager. It is recommended to use a virtual environment instead: https://pip.pypa.io/warnings/venv\u001b[0m\u001b[33m\r\n",
      "\u001b[0m"
     ]
    }
   ],
   "source": [
    "#安装timm\n",
    "!pip install timm"
   ]
  },
  {
   "cell_type": "code",
   "execution_count": 11,
   "id": "82225972",
   "metadata": {
    "execution": {
     "iopub.execute_input": "2022-11-24T12:20:21.967545Z",
     "iopub.status.busy": "2022-11-24T12:20:21.966722Z",
     "iopub.status.idle": "2022-11-24T12:20:36.700932Z",
     "shell.execute_reply": "2022-11-24T12:20:36.699634Z"
    },
    "papermill": {
     "duration": 14.746318,
     "end_time": "2022-11-24T12:20:36.702945",
     "exception": false,
     "start_time": "2022-11-24T12:20:21.956627",
     "status": "completed"
    },
    "tags": []
   },
   "outputs": [
    {
     "name": "stdout",
     "output_type": "stream",
     "text": [
      "(Test on best_auc_model_v4) auc: 0.9849879465264081 acc:0.9022435897435898\n"
     ]
    }
   ],
   "source": [
    "import timm\n",
    "import torch\n",
    "import torch.nn as nn\n",
    "import torch.nn.functional as F\n",
    "import os\n",
    "\n",
    "#创建efficientNet模型\n",
    "eff_model = timm.create_model('tf_efficientnet_b4_ns', pretrained=False, in_chans=1)\n",
    "\n",
    "#修改model.classifier #修改前model.classifier为Linear(in_features=1792, out_features=1000, bias=True),修改后out_features=1\n",
    "eff_model.classifier = nn.Sequential(\n",
    "    nn.Linear(in_features=1792, out_features=625),\n",
    "    nn.ReLU(inplace=True), \n",
    "    nn.Dropout(p=0.3),\n",
    "    nn.Linear(in_features=625, out_features=256),\n",
    "    nn.ReLU(inplace=True),\n",
    "    nn.Linear(in_features=256, out_features=1), \n",
    ")\n",
    "\n",
    "eff_model.to(device)\n",
    "\n",
    "save_dir = '/kaggle/working/best_auc_model_v5.pth'\n",
    "dataset_path = '/kaggle/input/chest-xray-pneumonia/chest_xray'\n",
    "\n",
    "state_dict = torch.load(save_dir)\n",
    "eff_model.load_state_dict(state_dict)\n",
    "\n",
    "eff_model.eval()\n",
    "auc, acc = evaluate(eff_model, data_path=dataset_path, mode='test')\n",
    "print(f'(Test on best_auc_model_v4) auc: {auc} acc:{acc}')"
   ]
  },
  {
   "cell_type": "code",
   "execution_count": 12,
   "id": "d18a30ea",
   "metadata": {
    "execution": {
     "iopub.execute_input": "2022-11-24T12:20:36.722328Z",
     "iopub.status.busy": "2022-11-24T12:20:36.722015Z",
     "iopub.status.idle": "2022-11-24T12:20:48.692209Z",
     "shell.execute_reply": "2022-11-24T12:20:48.690982Z"
    },
    "papermill": {
     "duration": 11.982242,
     "end_time": "2022-11-24T12:20:48.694409",
     "exception": false,
     "start_time": "2022-11-24T12:20:36.712167",
     "status": "completed"
    },
    "tags": []
   },
   "outputs": [
    {
     "name": "stdout",
     "output_type": "stream",
     "text": [
      "(Test on best_acc_model_v4) auc: 0.9794104755643217 acc:0.9230769230769231\n"
     ]
    }
   ],
   "source": [
    "import timm\n",
    "import torch\n",
    "import torch.nn as nn\n",
    "import torch.nn.functional as F\n",
    "import os\n",
    "\n",
    "#创建efficientNet模型\n",
    "eff_model = timm.create_model('tf_efficientnet_b4_ns', pretrained=False, in_chans=1)\n",
    "\n",
    "#修改model.classifier #修改前model.classifier为Linear(in_features=1792, out_features=1000, bias=True),修改后out_features=1\n",
    "eff_model.classifier = nn.Sequential(\n",
    "    nn.Linear(in_features=1792, out_features=625),\n",
    "    nn.ReLU(inplace=True), \n",
    "    nn.Dropout(p=0.3),\n",
    "    nn.Linear(in_features=625, out_features=256),\n",
    "    nn.ReLU(inplace=True),\n",
    "    nn.Linear(in_features=256, out_features=1), \n",
    ")\n",
    "\n",
    "eff_model.to(device)\n",
    "\n",
    "save_dir = '/kaggle/working/best_acc_model_v5.pth'\n",
    "dataset_path = '/kaggle/input/chest-xray-pneumonia/chest_xray'\n",
    "\n",
    "state_dict = torch.load(save_dir)\n",
    "eff_model.load_state_dict(state_dict)\n",
    "\n",
    "eff_model.eval()\n",
    "auc, acc = evaluate(eff_model, data_path=dataset_path, mode='test')\n",
    "print(f'(Test on best_acc_model_v4) auc: {auc} acc:{acc}')"
   ]
  }
 ],
 "metadata": {
  "kernelspec": {
   "display_name": "Python 3",
   "language": "python",
   "name": "python3"
  },
  "language_info": {
   "codemirror_mode": {
    "name": "ipython",
    "version": 3
   },
   "file_extension": ".py",
   "mimetype": "text/x-python",
   "name": "python",
   "nbconvert_exporter": "python",
   "pygments_lexer": "ipython3",
   "version": "3.7.12"
  },
  "papermill": {
   "default_parameters": {},
   "duration": 1337.497748,
   "end_time": "2022-11-24T12:20:50.429457",
   "environment_variables": {},
   "exception": null,
   "input_path": "__notebook__.ipynb",
   "output_path": "__notebook__.ipynb",
   "parameters": {},
   "start_time": "2022-11-24T11:58:32.931709",
   "version": "2.3.4"
  }
 },
 "nbformat": 4,
 "nbformat_minor": 5
}
