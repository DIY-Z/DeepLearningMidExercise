{
 "cells": [
  {
   "cell_type": "markdown",
   "id": "99da6d4d",
   "metadata": {
    "papermill": {
     "duration": 0.004732,
     "end_time": "2022-11-24T09:59:47.991727",
     "exception": false,
     "start_time": "2022-11-24T09:59:47.986995",
     "status": "completed"
    },
    "tags": []
   },
   "source": [
    "## 1.Loading Data"
   ]
  },
  {
   "cell_type": "code",
   "execution_count": 1,
   "id": "83e9ad0d",
   "metadata": {
    "execution": {
     "iopub.execute_input": "2022-11-24T09:59:48.001403Z",
     "iopub.status.busy": "2022-11-24T09:59:48.000533Z",
     "iopub.status.idle": "2022-11-24T09:59:49.643647Z",
     "shell.execute_reply": "2022-11-24T09:59:49.642078Z"
    },
    "papermill": {
     "duration": 1.650808,
     "end_time": "2022-11-24T09:59:49.646208",
     "exception": false,
     "start_time": "2022-11-24T09:59:47.995400",
     "status": "completed"
    },
    "tags": []
   },
   "outputs": [
    {
     "name": "stdout",
     "output_type": "stream",
     "text": [
      "Using cuda device\n"
     ]
    }
   ],
   "source": [
    "import torch\n",
    "\n",
    "device = torch.device('cuda') if torch.cuda.is_available() else torch.device('cpu')\n",
    "print('Using {} device'.format(device))"
   ]
  },
  {
   "cell_type": "code",
   "execution_count": 2,
   "id": "8707c98a",
   "metadata": {
    "execution": {
     "iopub.execute_input": "2022-11-24T09:59:49.655630Z",
     "iopub.status.busy": "2022-11-24T09:59:49.654898Z",
     "iopub.status.idle": "2022-11-24T09:59:49.863135Z",
     "shell.execute_reply": "2022-11-24T09:59:49.862167Z"
    },
    "papermill": {
     "duration": 0.215672,
     "end_time": "2022-11-24T09:59:49.865776",
     "exception": false,
     "start_time": "2022-11-24T09:59:49.650104",
     "status": "completed"
    },
    "tags": []
   },
   "outputs": [],
   "source": [
    "from torch.utils import data\n",
    "from torchvision import transforms as trans\n",
    "import os\n",
    "import random\n",
    "from PIL import Image\n",
    "\n",
    "class PDataset(data.Dataset):\n",
    "    def __init__(self, dataset_root, size=224, augment=True):\n",
    "        self.data_root = dataset_root\n",
    "        self.img_path_list = self.collect_img(self.data_root)\n",
    "        self.augment = augment\n",
    "        self.size = size\n",
    "        if augment:\n",
    "            self.transform = trans.Compose([\n",
    "                trans.Resize(255),\n",
    "                trans.CenterCrop(224),\n",
    "                trans.RandomHorizontalFlip(),\n",
    "                trans.Grayscale(),\n",
    "                trans.RandomRotation(10),\n",
    "                trans.RandomAffine(translate=(0.05, 0.05), degrees = 0),\n",
    "                trans.ToTensor(),\n",
    "                trans.Normalize((0.485), (0.229))])\n",
    "            print(\"Augment True!\")\n",
    "        else:\n",
    "            self.transform = trans.Compose([trans.Grayscale(), trans.ToTensor(),trans.Normalize((0.485), (0.229))])\n",
    "        \n",
    "    \n",
    "    def __getitem__(self, index):\n",
    "        image_path = self.img_path_list[index]\n",
    "        img = Image.open(image_path)\n",
    "        if not self.augment:  #如果augment_为False, 则需要先调整大小成(size,size)\n",
    "            img = self.resize_image(img, self.size)\n",
    "        img = self.transform(img)\n",
    "        return img\n",
    "        \n",
    "    def resize_image(self, image, size):\n",
    "        img = image.resize((size, size))\n",
    "        return img\n",
    "    \n",
    "    def collect_img(self, root):\n",
    "        img_path_list = []\n",
    "        for path in os.listdir(root):\n",
    "            img_path = os.path.join(root, path)\n",
    "            img_path_list.append(img_path)\n",
    "        return img_path_list\n",
    "    \n",
    "    def __len__(self):\n",
    "        return len(self.img_path_list)"
   ]
  },
  {
   "cell_type": "code",
   "execution_count": 3,
   "id": "8e230c72",
   "metadata": {
    "execution": {
     "iopub.execute_input": "2022-11-24T09:59:49.875993Z",
     "iopub.status.busy": "2022-11-24T09:59:49.874506Z",
     "iopub.status.idle": "2022-11-24T09:59:50.252540Z",
     "shell.execute_reply": "2022-11-24T09:59:50.250879Z"
    },
    "papermill": {
     "duration": 0.385688,
     "end_time": "2022-11-24T09:59:50.255274",
     "exception": false,
     "start_time": "2022-11-24T09:59:49.869586",
     "status": "completed"
    },
    "tags": []
   },
   "outputs": [
    {
     "name": "stdout",
     "output_type": "stream",
     "text": [
      "Augment True!\n",
      "Augment True!\n"
     ]
    }
   ],
   "source": [
    "dataset_path = '/kaggle/input/chest-xray-pneumonia/chest_xray'\n",
    "\n",
    "#trainset\n",
    "normal_dataset = PDataset(dataset_root = os.path.join(dataset_path, 'train', 'NORMAL'), size = 224, augment=True)\n",
    "pneumonia_dataset = PDataset(dataset_root = os.path.join(dataset_path, 'train', 'PNEUMONIA'), size = 224, augment=True)\n",
    "normal_dataloader = torch.utils.data.DataLoader(\n",
    "    dataset=normal_dataset,\n",
    "    batch_size = 8,\n",
    "    shuffle = True,\n",
    "    num_workers = 0\n",
    ")\n",
    "pneumonia_dataloader = torch.utils.data.DataLoader(\n",
    "    dataset=pneumonia_dataset,\n",
    "    batch_size = 8,\n",
    "    shuffle = True,\n",
    "    num_workers = 0\n",
    ")"
   ]
  },
  {
   "cell_type": "markdown",
   "id": "3b7cb2c3",
   "metadata": {
    "papermill": {
     "duration": 0.003676,
     "end_time": "2022-11-24T09:59:50.263434",
     "exception": false,
     "start_time": "2022-11-24T09:59:50.259758",
     "status": "completed"
    },
    "tags": []
   },
   "source": [
    "## 2.Model"
   ]
  },
  {
   "cell_type": "code",
   "execution_count": 4,
   "id": "beb1c92d",
   "metadata": {
    "execution": {
     "iopub.execute_input": "2022-11-24T09:59:50.272448Z",
     "iopub.status.busy": "2022-11-24T09:59:50.271559Z",
     "iopub.status.idle": "2022-11-24T10:00:03.174452Z",
     "shell.execute_reply": "2022-11-24T10:00:03.173259Z"
    },
    "papermill": {
     "duration": 12.909995,
     "end_time": "2022-11-24T10:00:03.176937",
     "exception": false,
     "start_time": "2022-11-24T09:59:50.266942",
     "status": "completed"
    },
    "tags": []
   },
   "outputs": [
    {
     "name": "stdout",
     "output_type": "stream",
     "text": [
      "Collecting timm\r\n",
      "  Downloading timm-0.6.12-py3-none-any.whl (549 kB)\r\n",
      "\u001b[2K     \u001b[90m━━━━━━━━━━━━━━━━━━━━━━━━━━━━━━━━━━━━━\u001b[0m \u001b[32m549.1/549.1 kB\u001b[0m \u001b[31m765.7 kB/s\u001b[0m eta \u001b[36m0:00:00\u001b[0m\r\n",
      "\u001b[?25hRequirement already satisfied: torch>=1.7 in /opt/conda/lib/python3.7/site-packages (from timm) (1.11.0)\r\n",
      "Requirement already satisfied: pyyaml in /opt/conda/lib/python3.7/site-packages (from timm) (6.0)\r\n",
      "Requirement already satisfied: huggingface-hub in /opt/conda/lib/python3.7/site-packages (from timm) (0.10.1)\r\n",
      "Requirement already satisfied: torchvision in /opt/conda/lib/python3.7/site-packages (from timm) (0.12.0)\r\n",
      "Requirement already satisfied: typing-extensions in /opt/conda/lib/python3.7/site-packages (from torch>=1.7->timm) (4.1.1)\r\n",
      "Requirement already satisfied: importlib-metadata in /opt/conda/lib/python3.7/site-packages (from huggingface-hub->timm) (4.13.0)\r\n",
      "Requirement already satisfied: filelock in /opt/conda/lib/python3.7/site-packages (from huggingface-hub->timm) (3.7.1)\r\n",
      "Requirement already satisfied: requests in /opt/conda/lib/python3.7/site-packages (from huggingface-hub->timm) (2.28.1)\r\n",
      "Requirement already satisfied: tqdm in /opt/conda/lib/python3.7/site-packages (from huggingface-hub->timm) (4.64.0)\r\n",
      "Requirement already satisfied: packaging>=20.9 in /opt/conda/lib/python3.7/site-packages (from huggingface-hub->timm) (21.3)\r\n",
      "Requirement already satisfied: numpy in /opt/conda/lib/python3.7/site-packages (from torchvision->timm) (1.21.6)\r\n",
      "Requirement already satisfied: pillow!=8.3.*,>=5.3.0 in /opt/conda/lib/python3.7/site-packages (from torchvision->timm) (9.1.1)\r\n",
      "Requirement already satisfied: pyparsing!=3.0.5,>=2.0.2 in /opt/conda/lib/python3.7/site-packages (from packaging>=20.9->huggingface-hub->timm) (3.0.9)\r\n",
      "Requirement already satisfied: zipp>=0.5 in /opt/conda/lib/python3.7/site-packages (from importlib-metadata->huggingface-hub->timm) (3.8.0)\r\n",
      "Requirement already satisfied: urllib3<1.27,>=1.21.1 in /opt/conda/lib/python3.7/site-packages (from requests->huggingface-hub->timm) (1.26.12)\r\n",
      "Requirement already satisfied: idna<4,>=2.5 in /opt/conda/lib/python3.7/site-packages (from requests->huggingface-hub->timm) (3.3)\r\n",
      "Requirement already satisfied: charset-normalizer<3,>=2 in /opt/conda/lib/python3.7/site-packages (from requests->huggingface-hub->timm) (2.1.0)\r\n",
      "Requirement already satisfied: certifi>=2017.4.17 in /opt/conda/lib/python3.7/site-packages (from requests->huggingface-hub->timm) (2022.9.24)\r\n",
      "Installing collected packages: timm\r\n",
      "Successfully installed timm-0.6.12\r\n",
      "\u001b[33mWARNING: Running pip as the 'root' user can result in broken permissions and conflicting behaviour with the system package manager. It is recommended to use a virtual environment instead: https://pip.pypa.io/warnings/venv\u001b[0m\u001b[33m\r\n",
      "\u001b[0m"
     ]
    }
   ],
   "source": [
    "#安装timm\n",
    "!pip install timm"
   ]
  },
  {
   "cell_type": "code",
   "execution_count": 5,
   "id": "15c65fad",
   "metadata": {
    "execution": {
     "iopub.execute_input": "2022-11-24T10:00:03.188984Z",
     "iopub.status.busy": "2022-11-24T10:00:03.188042Z",
     "iopub.status.idle": "2022-11-24T10:00:18.949475Z",
     "shell.execute_reply": "2022-11-24T10:00:18.948460Z"
    },
    "papermill": {
     "duration": 15.770136,
     "end_time": "2022-11-24T10:00:18.952180",
     "exception": false,
     "start_time": "2022-11-24T10:00:03.182044",
     "status": "completed"
    },
    "tags": []
   },
   "outputs": [
    {
     "name": "stderr",
     "output_type": "stream",
     "text": [
      "Downloading: \"https://github.com/rwightman/pytorch-image-models/releases/download/v0.1-weights/tf_efficientnet_b4_ns-d6313a46.pth\" to /root/.cache/torch/hub/checkpoints/tf_efficientnet_b4_ns-d6313a46.pth\n"
     ]
    }
   ],
   "source": [
    "#EfficientNet\n",
    "import timm\n",
    "import torch.nn as nn\n",
    "import torch.nn.functional as F\n",
    "\n",
    "#创建efficientNet模型并加载它的预训练权重\n",
    "eff_model = timm.create_model('tf_efficientnet_b4_ns', pretrained=True, in_chans=1)\n",
    "\n",
    "\n",
    "\n",
    "#修改model.classifier #修改前model.classifier为Linear(in_features=1792, out_features=1000, bias=True),修改后out_features=1\n",
    "eff_model.classifier = nn.Sequential(\n",
    "    nn.Linear(in_features=1792, out_features=625),\n",
    "    nn.ReLU(inplace=True), \n",
    "    nn.Dropout(p=0.3),\n",
    "    nn.Linear(in_features=625, out_features=256),\n",
    "    nn.ReLU(inplace=True),\n",
    "    nn.Linear(in_features=256, out_features=1), \n",
    ")\n",
    "#将修改的classifier的层初始化\n",
    "for layer in eff_model.classifier:\n",
    "    if isinstance(layer, nn.Linear):\n",
    "        nn.init.kaiming_normal_(layer.weight.data, a=0, mode='fan_in', nonlinearity='leaky_relu')\n",
    "        layer.bias.data.zero_()"
   ]
  },
  {
   "cell_type": "markdown",
   "id": "5ed3fac5",
   "metadata": {
    "papermill": {
     "duration": 0.004602,
     "end_time": "2022-11-24T10:00:18.961979",
     "exception": false,
     "start_time": "2022-11-24T10:00:18.957377",
     "status": "completed"
    },
    "tags": []
   },
   "source": [
    "## 3.Model Train"
   ]
  },
  {
   "cell_type": "code",
   "execution_count": 6,
   "id": "95639491",
   "metadata": {
    "execution": {
     "iopub.execute_input": "2022-11-24T10:00:18.972756Z",
     "iopub.status.busy": "2022-11-24T10:00:18.972454Z",
     "iopub.status.idle": "2022-11-24T10:00:18.981036Z",
     "shell.execute_reply": "2022-11-24T10:00:18.980060Z"
    },
    "papermill": {
     "duration": 0.016427,
     "end_time": "2022-11-24T10:00:18.983047",
     "exception": false,
     "start_time": "2022-11-24T10:00:18.966620",
     "status": "completed"
    },
    "tags": []
   },
   "outputs": [],
   "source": [
    "class Trainer():\n",
    "    def __init__(self):\n",
    "        gpu_ids = [0]\n",
    "        self.device = torch.device('cuda:{}'.format(gpu_ids[0])) if gpu_ids else torch.device('cpu')\n",
    "#         self.device = torch.device('cpu')\n",
    "        self.model = eff_model\n",
    "        #TODO 切换到GPU\n",
    "        self.model = eff_model.to(f'cuda:{gpu_ids[0]}')\n",
    "        self.loss_fn = nn.BCEWithLogitsLoss()\n",
    "        self.optimizer = torch.optim.Adam(filter(lambda p: p.requires_grad, self.model.parameters()), \n",
    "                                lr=0.0002, betas=(0.9, 0.999))\n",
    "    \n",
    "    def set_input(self, input, label):\n",
    "        self.input = input.to(self.device)\n",
    "        self.label = label.to(self.device)\n",
    "    \n",
    "    def optimize_weight(self):\n",
    "        stu_cla = self.model(self.input)\n",
    "        self.loss_cla = self.loss_fn(stu_cla.squeeze(1), self.label)\n",
    "        self.loss = self.loss_cla\n",
    "        \n",
    "        self.optimizer.zero_grad()\n",
    "        self.loss.backward()\n",
    "        self.optimizer.step()\n",
    "        return self.loss"
   ]
  },
  {
   "cell_type": "code",
   "execution_count": 7,
   "id": "9a07a5d7",
   "metadata": {
    "execution": {
     "iopub.execute_input": "2022-11-24T10:00:18.993606Z",
     "iopub.status.busy": "2022-11-24T10:00:18.993327Z",
     "iopub.status.idle": "2022-11-24T10:00:19.705009Z",
     "shell.execute_reply": "2022-11-24T10:00:19.704021Z"
    },
    "papermill": {
     "duration": 0.719646,
     "end_time": "2022-11-24T10:00:19.707350",
     "exception": false,
     "start_time": "2022-11-24T10:00:18.987704",
     "status": "completed"
    },
    "tags": []
   },
   "outputs": [],
   "source": [
    "from sklearn.metrics import average_precision_score, precision_recall_curve, accuracy_score\n",
    "from sklearn.metrics import roc_curve\n",
    "from sklearn.metrics import auc as cal_auc\n",
    "import torch\n",
    "import numpy as np\n",
    "\n",
    "def evaluate(model, data_path, mode='val', bz=8, input_size=224):\n",
    "    root = data_path\n",
    "    root = os.path.join(data_path, mode)\n",
    "    n_root = os.path.join(root, 'NORMAL')\n",
    "    dataset_n = PDataset(dataset_root = n_root, size=input_size, augment=False)\n",
    "    p_root = os.path.join(root, 'PNEUMONIA')\n",
    "    dataset_p = PDataset(dataset_root = p_root, size=input_size, augment=False)\n",
    "    dataset_img = torch.utils.data.ConcatDataset([dataset_n, dataset_p])\n",
    "    with torch.no_grad():\n",
    "        y_true, y_pred = [], []\n",
    "        for i, d in enumerate(dataset_img.datasets):\n",
    "            dataloader = torch.utils.data.DataLoader(\n",
    "                dataset = d,\n",
    "                batch_size = bz,\n",
    "                shuffle = True,\n",
    "                num_workers = 0\n",
    "            )\n",
    "            for img in dataloader:\n",
    "                if i == 0:\n",
    "                    label = torch.zeros(img.size(0))\n",
    "                else:\n",
    "                    label = torch.ones(img.size(0))\n",
    "                \n",
    "                img = img.detach().to(device)\n",
    "                output = model(img)\n",
    "                y_pred.extend(output.sigmoid().flatten().tolist())\n",
    "                y_true.extend(label.flatten().tolist())\n",
    "    y_true, y_pred = np.array(y_true), np.array(y_pred)\n",
    "    fpr, tpr, thresholds = roc_curve(y_true,y_pred,pos_label=1)  #pos_label是指正样本的标签\n",
    "    AUC = cal_auc(fpr, tpr)\n",
    "    acc = accuracy_score(y_true, y_pred > 0.5)\n",
    "    return AUC, acc"
   ]
  },
  {
   "cell_type": "code",
   "execution_count": 8,
   "id": "bc6296be",
   "metadata": {
    "execution": {
     "iopub.execute_input": "2022-11-24T10:00:19.718631Z",
     "iopub.status.busy": "2022-11-24T10:00:19.718339Z",
     "iopub.status.idle": "2022-11-24T10:42:15.136916Z",
     "shell.execute_reply": "2022-11-24T10:42:15.133880Z"
    },
    "papermill": {
     "duration": 2515.437319,
     "end_time": "2022-11-24T10:42:15.149656",
     "exception": false,
     "start_time": "2022-11-24T10:00:19.712337",
     "status": "completed"
    },
    "tags": []
   },
   "outputs": [
    {
     "name": "stdout",
     "output_type": "stream",
     "text": [
      "Epoch 0\n",
      "loss: 0.0167001374065876 at step: 40\n",
      "loss: 0.010503946803510189 at step: 80\n",
      "loss: 0.05975276604294777 at step: 120\n",
      "loss: 0.012640146538615227 at step: 160\n",
      "(Val @ epoch 0) auc: 0.8125 acc:0.8125\n",
      "Epoch 1\n",
      "loss: 0.008279397152364254 at step: 200\n",
      "loss: 0.027476852759718895 at step: 240\n",
      "loss: 0.008068655617535114 at step: 280\n",
      "loss: 0.006775617133826017 at step: 320\n",
      "(Val @ epoch 1) auc: 0.953125 acc:0.875\n",
      "Epoch 2\n",
      "loss: 0.00047396839363500476 at step: 360\n",
      "loss: 0.09705628454685211 at step: 400\n",
      "loss: 0.022756308317184448 at step: 440\n",
      "loss: 0.0397765226662159 at step: 480\n",
      "(Val @ epoch 2) auc: 0.8125 acc:0.75\n",
      "Epoch 3\n",
      "loss: 0.0021110335364937782 at step: 520\n",
      "loss: 0.0010910362470895052 at step: 560\n",
      "loss: 0.000598216662183404 at step: 600\n",
      "loss: 0.001560676610097289 at step: 640\n",
      "(Val @ epoch 3) auc: 0.875 acc:0.75\n",
      "Epoch 4\n",
      "loss: 0.0021736514754593372 at step: 680\n",
      "loss: 0.0040230355225503445 at step: 720\n",
      "loss: 0.002389119938015938 at step: 760\n",
      "loss: 0.0004636470112018287 at step: 800\n",
      "(Val @ epoch 4) auc: 0.953125 acc:0.8125\n",
      "Epoch 5\n",
      "loss: 0.2995488941669464 at step: 880\n",
      "loss: 0.0022759472485631704 at step: 920\n",
      "loss: 0.0015356906224042177 at step: 960\n",
      "loss: 0.08272253721952438 at step: 1000\n",
      "(Val @ epoch 5) auc: 0.96875 acc:0.875\n",
      "Epoch 6\n",
      "loss: 0.17874103784561157 at step: 1040\n",
      "loss: 0.00041936433990485966 at step: 1080\n",
      "loss: 0.00017379646305926144 at step: 1120\n",
      "loss: 0.00037345068994909525 at step: 1160\n",
      "(Val @ epoch 6) auc: 0.84375 acc:0.8125\n",
      "Epoch 7\n",
      "loss: 0.00046232552267611027 at step: 1200\n",
      "loss: 0.0010238400427624583 at step: 1240\n",
      "loss: 0.18089428544044495 at step: 1280\n",
      "loss: 0.0002657061268109828 at step: 1320\n",
      "(Val @ epoch 7) auc: 0.796875 acc:0.625\n",
      "Epoch 8\n",
      "loss: 0.03173287957906723 at step: 1360\n",
      "loss: 0.0003111213445663452 at step: 1400\n",
      "loss: 0.001085101393982768 at step: 1440\n",
      "loss: 0.0003360167029313743 at step: 1480\n",
      "(Val @ epoch 8) auc: 0.90625 acc:0.8125\n",
      "Epoch 9\n",
      "loss: 0.052250418812036514 at step: 1520\n",
      "loss: 0.0005776031175628304 at step: 1560\n",
      "loss: 0.0003155145968776196 at step: 1600\n",
      "loss: 0.0023895155172795057 at step: 1640\n",
      "(Val @ epoch 9) auc: 0.96875 acc:0.9375\n",
      "Epoch 10\n",
      "loss: 7.34886561986059e-05 at step: 1720\n",
      "loss: 0.0005031670443713665 at step: 1760\n",
      "loss: 0.0018736068159341812 at step: 1800\n",
      "loss: 0.0009169664117507637 at step: 1840\n",
      "(Val @ epoch 10) auc: 0.828125 acc:0.8125\n",
      "Epoch 11\n",
      "loss: 0.00020160683197900653 at step: 1880\n",
      "loss: 0.0005476754740811884 at step: 1920\n",
      "loss: 0.0022800681181252003 at step: 1960\n",
      "loss: 3.5707034840015694e-05 at step: 2000\n",
      "(Val @ epoch 11) auc: 0.953125 acc:0.8125\n",
      "Epoch 12\n",
      "loss: 0.05161871761083603 at step: 2040\n",
      "loss: 0.00021703570382669568 at step: 2080\n",
      "loss: 4.9773203500080854e-05 at step: 2120\n",
      "loss: 0.0006201612995937467 at step: 2160\n",
      "(Val @ epoch 12) auc: 0.765625 acc:0.75\n",
      "Epoch 13\n",
      "loss: 0.0013108954299241304 at step: 2200\n",
      "loss: 0.04562341421842575 at step: 2240\n",
      "loss: 0.0013466599630191922 at step: 2280\n",
      "loss: 0.02169262059032917 at step: 2320\n",
      "(Val @ epoch 13) auc: 0.9375 acc:0.875\n",
      "Epoch 14\n",
      "loss: 0.006687994580715895 at step: 2360\n",
      "loss: 0.0005077837849967182 at step: 2400\n",
      "loss: 6.166122329887003e-05 at step: 2440\n",
      "loss: 0.0019354105461388826 at step: 2480\n",
      "(Val @ epoch 14) auc: 0.890625 acc:0.875\n",
      "Epoch 15\n",
      "loss: 4.5871191105106845e-05 at step: 2560\n",
      "loss: 2.104728264384903e-05 at step: 2600\n",
      "loss: 0.0007406837539747357 at step: 2640\n",
      "loss: 0.0027257977053523064 at step: 2680\n",
      "(Val @ epoch 15) auc: 0.9375 acc:0.8125\n",
      "Epoch 16\n",
      "loss: 0.0028096982277929783 at step: 2720\n",
      "loss: 0.0006026697810739279 at step: 2760\n",
      "loss: 0.0008267015218734741 at step: 2800\n",
      "loss: 0.001445787027478218 at step: 2840\n",
      "(Val @ epoch 16) auc: 0.9375 acc:0.8125\n",
      "Epoch 17\n",
      "loss: 4.3105050281155854e-05 at step: 2880\n",
      "loss: 0.0003002519370056689 at step: 2920\n",
      "loss: 0.00014500421821139753 at step: 2960\n",
      "loss: 8.233413973357528e-05 at step: 3000\n",
      "(Val @ epoch 17) auc: 0.90625 acc:0.8125\n",
      "Epoch 18\n",
      "loss: 9.497202700003982e-05 at step: 3040\n",
      "loss: 0.0010411710245534778 at step: 3080\n",
      "loss: 0.00028789782663807273 at step: 3120\n",
      "loss: 3.397290129214525e-05 at step: 3160\n",
      "(Val @ epoch 18) auc: 0.953125 acc:0.8125\n",
      "Epoch 19\n",
      "loss: 0.0011380014475435019 at step: 3200\n",
      "loss: 0.0036123006138950586 at step: 3240\n",
      "loss: 0.036953166127204895 at step: 3280\n",
      "loss: 0.00026519157108850777 at step: 3320\n",
      "(Val @ epoch 19) auc: 0.953125 acc:0.8125\n",
      "Epoch 20\n",
      "loss: 8.343182707903907e-05 at step: 3400\n",
      "loss: 0.0001220811391249299 at step: 3440\n",
      "loss: 2.079355726891663e-05 at step: 3480\n",
      "loss: 0.0009083042968995869 at step: 3520\n",
      "(Val @ epoch 20) auc: 1.0 acc:0.8125\n",
      "Epoch 21\n",
      "loss: 0.003177571576088667 at step: 3560\n",
      "loss: 1.879655428638216e-05 at step: 3600\n",
      "loss: 0.000383129547117278 at step: 3640\n",
      "loss: 0.0003695944615174085 at step: 3680\n",
      "(Val @ epoch 21) auc: 0.921875 acc:0.9375\n",
      "Epoch 22\n",
      "loss: 0.026885004714131355 at step: 3720\n",
      "loss: 0.18058891594409943 at step: 3760\n",
      "loss: 2.8079753974452615e-05 at step: 3800\n",
      "loss: 0.00036826758878305554 at step: 3840\n",
      "(Val @ epoch 22) auc: 0.921875 acc:0.875\n",
      "Epoch 23\n",
      "loss: 1.0311145160812885e-05 at step: 3920\n",
      "loss: 0.00012576872541103512 at step: 3960\n",
      "loss: 0.025523146614432335 at step: 4000\n",
      "(Val @ epoch 23) auc: 0.9375 acc:0.875\n",
      "Epoch 24\n",
      "loss: 3.2931343412201386e-06 at step: 4040\n",
      "loss: 1.1339320735714864e-05 at step: 4080\n",
      "loss: 6.556365406140685e-06 at step: 4120\n",
      "loss: 1.96694531950925e-06 at step: 4160\n",
      "(Val @ epoch 24) auc: 0.921875 acc:0.875\n",
      "Epoch 25\n",
      "loss: 9.123126801569015e-05 at step: 4240\n",
      "loss: 5.945491466263775e-06 at step: 4280\n",
      "loss: 0.018812358379364014 at step: 4320\n",
      "loss: 0.30315685272216797 at step: 4360\n",
      "(Val @ epoch 25) auc: 0.84375 acc:0.8125\n",
      "Epoch 26\n",
      "loss: 2.3353721189778298e-05 at step: 4400\n",
      "loss: 7.366880163317546e-05 at step: 4440\n",
      "loss: 2.2724116206518374e-06 at step: 4480\n",
      "loss: 5.587828127318062e-05 at step: 4520\n",
      "(Val @ epoch 26) auc: 0.96875 acc:0.8125\n",
      "Epoch 27\n",
      "loss: 0.05720539391040802 at step: 4560\n",
      "loss: 0.010221663862466812 at step: 4600\n",
      "loss: 0.00048225841601379216 at step: 4640\n",
      "loss: 2.4093476895359345e-05 at step: 4680\n",
      "(Val @ epoch 27) auc: 1.0 acc:0.875\n",
      "Epoch 28\n",
      "loss: 9.115187276620418e-05 at step: 4720\n",
      "loss: 4.775789875566261e-06 at step: 4760\n",
      "loss: 0.02300916239619255 at step: 4800\n",
      "loss: 0.014796226285398006 at step: 4840\n",
      "(Val @ epoch 28) auc: 0.953125 acc:0.875\n",
      "Epoch 29\n",
      "loss: 0.002318754093721509 at step: 4880\n",
      "loss: 0.0004486593825276941 at step: 4920\n",
      "loss: 0.0007791047100909054 at step: 4960\n",
      "loss: 0.001130575081333518 at step: 5000\n",
      "(Val @ epoch 29) auc: 1.0 acc:0.875\n"
     ]
    }
   ],
   "source": [
    "import copy\n",
    "\n",
    "#记录训练过程中的验证集的auc,acc\n",
    "valid_auc = []\n",
    "valid_acc = []\n",
    "\n",
    "\n",
    "#train\n",
    "model = Trainer()\n",
    "model.total_steps = 0\n",
    "epoch = 0\n",
    "max_epoch = 30\n",
    "loss_freq = 40\n",
    "\n",
    "len_dataloader = normal_dataloader.__len__()\n",
    "p_iter = iter(pneumonia_dataloader)\n",
    "\n",
    "best_val = 0\n",
    "\n",
    "while epoch < max_epoch:\n",
    "    n_iter = iter(normal_dataloader)\n",
    "    print(f'Epoch {epoch}')\n",
    "    i = 0\n",
    "    while i < len_dataloader:\n",
    "        i += 1\n",
    "        model.total_steps += 1\n",
    "        \n",
    "        try:\n",
    "            data_n = n_iter.next()\n",
    "        except StopIteration:\n",
    "            break\n",
    "        \n",
    "        try:\n",
    "            data_p = p_iter.next()\n",
    "        except StopIteration:\n",
    "            p_iter = iter(pneumonia_dataloader)\n",
    "            data_p = p_iter.next()\n",
    "        \n",
    "        if data_p.shape[0] != data_n.shape[0]:   #保证每次循环中normal与pneumonia的数量相等\n",
    "            continue\n",
    "        \n",
    "        bz = data_n.shape[0]\n",
    "        data = torch.cat([data_n, data_p], dim=0)\n",
    "        #将normal标签设置为0,将pneumonia标签设置为1\n",
    "        label = torch.cat([torch.zeros(bz).unsqueeze(dim=0),torch.ones(bz).unsqueeze(dim=0)],dim=1).squeeze(dim=0)\n",
    "        # manually shuffle\n",
    "        idx = list(range(data.shape[0]))\n",
    "        random.shuffle(idx)\n",
    "        data = data[idx]\n",
    "        label = label[idx]\n",
    "        data = data.detach()    #data.detach()是将data变量从计算图中分离出来,即反向传播时不计算其梯度\n",
    "        label = label.detach()\n",
    "        \n",
    "        model.set_input(data,label)\n",
    "\n",
    "        loss = model.optimize_weight()\n",
    "        if model.total_steps % loss_freq == 0:\n",
    "            print(f'loss: {loss} at step: {model.total_steps}')\n",
    "        \n",
    "    #找best\n",
    "    model.model.eval()\n",
    "    auc, acc = evaluate(model.model, dataset_path, mode='val')\n",
    "    valid_auc.append(auc)\n",
    "    valid_acc.append(acc)\n",
    "    print(f'(Val @ epoch {epoch}) auc: {auc} acc:{acc}')\n",
    "    if auc > best_val:\n",
    "        best_val = auc\n",
    "        best_model_weights = copy.deepcopy(model.model.state_dict())\n",
    "    epoch = epoch + 1\n",
    "    model.model.train()\n",
    "\n",
    "#保存训练好的模型权重\n",
    "save_dir = '/kaggle/working/model_v3.pth'\n",
    "torch.save(best_model_weights, save_dir)"
   ]
  },
  {
   "cell_type": "markdown",
   "id": "3686a3dc",
   "metadata": {
    "papermill": {
     "duration": 0.011806,
     "end_time": "2022-11-24T10:42:15.174205",
     "exception": false,
     "start_time": "2022-11-24T10:42:15.162399",
     "status": "completed"
    },
    "tags": []
   },
   "source": [
    "## 4.Visualization"
   ]
  },
  {
   "cell_type": "code",
   "execution_count": 9,
   "id": "ab0120f3",
   "metadata": {
    "execution": {
     "iopub.execute_input": "2022-11-24T10:42:15.199190Z",
     "iopub.status.busy": "2022-11-24T10:42:15.198857Z",
     "iopub.status.idle": "2022-11-24T10:42:15.416713Z",
     "shell.execute_reply": "2022-11-24T10:42:15.415815Z"
    },
    "papermill": {
     "duration": 0.232889,
     "end_time": "2022-11-24T10:42:15.418865",
     "exception": false,
     "start_time": "2022-11-24T10:42:15.185976",
     "status": "completed"
    },
    "tags": []
   },
   "outputs": [
    {
     "data": {
      "image/png": "[encoded data removed]",
      "text/plain": [
       "<Figure size 432x288 with 1 Axes>"
      ]
     },
     "metadata": {
      "needs_background": "light"
     },
     "output_type": "display_data"
    }
   ],
   "source": [
    "import matplotlib.pyplot as plt\n",
    "\n",
    "x_len = range(len(valid_auc))\n",
    "plt.plot(x_len, valid_auc, \"b\", label=\"valid AUC\")\n",
    "plt.plot(x_len, valid_acc, \"r\", label=\"valid Acc\")\n",
    "plt.legend()\n",
    "plt.show()"
   ]
  },
  {
   "cell_type": "markdown",
   "id": "57bbf6a5",
   "metadata": {
    "papermill": {
     "duration": 0.01206,
     "end_time": "2022-11-24T10:42:15.443708",
     "exception": false,
     "start_time": "2022-11-24T10:42:15.431648",
     "status": "completed"
    },
    "tags": []
   },
   "source": [
    "## 5.Test Model"
   ]
  },
  {
   "cell_type": "code",
   "execution_count": 10,
   "id": "e99e6d42",
   "metadata": {
    "execution": {
     "iopub.execute_input": "2022-11-24T10:42:15.471077Z",
     "iopub.status.busy": "2022-11-24T10:42:15.469616Z",
     "iopub.status.idle": "2022-11-24T10:42:15.474771Z",
     "shell.execute_reply": "2022-11-24T10:42:15.473904Z"
    },
    "papermill": {
     "duration": 0.020713,
     "end_time": "2022-11-24T10:42:15.476656",
     "exception": false,
     "start_time": "2022-11-24T10:42:15.455943",
     "status": "completed"
    },
    "tags": []
   },
   "outputs": [],
   "source": [
    "# #安装timm\n",
    "# !pip install timm"
   ]
  },
  {
   "cell_type": "code",
   "execution_count": 11,
   "id": "ab6d8420",
   "metadata": {
    "execution": {
     "iopub.execute_input": "2022-11-24T10:42:15.503367Z",
     "iopub.status.busy": "2022-11-24T10:42:15.501953Z",
     "iopub.status.idle": "2022-11-24T10:42:15.507847Z",
     "shell.execute_reply": "2022-11-24T10:42:15.507001Z"
    },
    "papermill": {
     "duration": 0.021026,
     "end_time": "2022-11-24T10:42:15.509774",
     "exception": false,
     "start_time": "2022-11-24T10:42:15.488748",
     "status": "completed"
    },
    "tags": []
   },
   "outputs": [],
   "source": [
    "# import timm\n",
    "# import torch\n",
    "# import torch.nn as nn\n",
    "# import torch.nn.functional as F\n",
    "# import os\n",
    "\n",
    "# #创建efficientNet模型\n",
    "# eff_model = timm.create_model('tf_efficientnet_b4_ns', pretrained=False, in_chans=1)\n",
    "\n",
    "# #修改model.classifier #修改前model.classifier为Linear(in_features=1792, out_features=1000, bias=True),修改后out_features=1\n",
    "# eff_model.classifier = nn.Sequential(\n",
    "#     nn.Linear(in_features=1792, out_features=625),\n",
    "#     nn.ReLU(inplace=True), \n",
    "#     nn.Dropout(p=0.3),\n",
    "#     nn.Linear(in_features=625, out_features=256),\n",
    "#     nn.ReLU(inplace=True),\n",
    "#     nn.Linear(in_features=256, out_features=1), \n",
    "# )\n",
    "\n",
    "# eff_model.to(device)\n",
    "\n",
    "# save_dir = '/kaggle/working/model_v2.pth'\n",
    "# dataset_path = '/kaggle/input/chest-xray-pneumonia/chest_xray'\n",
    "\n",
    "# state_dict = torch.load(save_dir)\n",
    "# eff_model.load_state_dict(state_dict)\n",
    "\n",
    "# eff_model.eval()\n",
    "# auc, acc = evaluate(eff_model, data_path=dataset_path, mode='test')\n",
    "# print(f'(Test) auc: {auc} acc:{acc}')"
   ]
  }
 ],
 "metadata": {
  "kernelspec": {
   "display_name": "Python 3",
   "language": "python",
   "name": "python3"
  },
  "language_info": {
   "codemirror_mode": {
    "name": "ipython",
    "version": 3
   },
   "file_extension": ".py",
   "mimetype": "text/x-python",
   "name": "python",
   "nbconvert_exporter": "python",
   "pygments_lexer": "ipython3",
   "version": "3.7.12"
  },
  "papermill": {
   "default_parameters": {},
   "duration": 2557.130951,
   "end_time": "2022-11-24T10:42:17.048998",
   "environment_variables": {},
   "exception": null,
   "input_path": "__notebook__.ipynb",
   "output_path": "__notebook__.ipynb",
   "parameters": {},
   "start_time": "2022-11-24T09:59:39.918047",
   "version": "2.3.4"
  }
 },
 "nbformat": 4,
 "nbformat_minor": 5
}
